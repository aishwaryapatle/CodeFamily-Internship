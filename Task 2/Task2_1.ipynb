{
  "nbformat": 4,
  "nbformat_minor": 0,
  "metadata": {
    "colab": {
      "name": "Task2.1.ipynb",
      "provenance": [],
      "authorship_tag": "ABX9TyMtHR3xW/iYzHWbK7C4RqZ5",
      "include_colab_link": true
    },
    "kernelspec": {
      "name": "python3",
      "display_name": "Python 3"
    },
    "language_info": {
      "name": "python"
    }
  },
  "cells": [
    {
      "cell_type": "markdown",
      "metadata": {
        "id": "view-in-github",
        "colab_type": "text"
      },
      "source": [
        "<a href=\"https://colab.research.google.com/github/aishwaryapatle/CodeFamily-Internship/blob/main/Task%202/Task2_1.ipynb\" target=\"_parent\"><img src=\"https://colab.research.google.com/assets/colab-badge.svg\" alt=\"Open In Colab\"/></a>"
      ]
    },
    {
      "cell_type": "markdown",
      "source": [
        "**1. NumPy N-dimensional Array**"
      ],
      "metadata": {
        "id": "S8VCKX8DBVU8"
      }
    },
    {
      "cell_type": "code",
      "execution_count": 1,
      "metadata": {
        "colab": {
          "base_uri": "https://localhost:8080/"
        },
        "id": "_Gi496XXBSxB",
        "outputId": "da3777db-08af-4f06-c411-be6eedbb83b1"
      },
      "outputs": [
        {
          "output_type": "stream",
          "name": "stdout",
          "text": [
            "[10 20 30]\n"
          ]
        }
      ],
      "source": [
        "import numpy as np\n",
        "dt = np.dtype([('age',np.int8)])\n",
        "a=np.array([(10,),(20,),(30,)], dtype = dt)\n",
        "print (a['age'])"
      ]
    },
    {
      "cell_type": "code",
      "source": [
        "# create array\n",
        "from numpy import array\n",
        "# create array\n",
        "l = [1.0, 2.0, 3.0]\n",
        "a = array(l)\n",
        "# display array\n",
        "print(a)\n",
        "# display array shape\n",
        "print(a.shape)\n",
        "# display array data type\n",
        "print(a.dtype)"
      ],
      "metadata": {
        "colab": {
          "base_uri": "https://localhost:8080/"
        },
        "id": "KTnvdLykBc65",
        "outputId": "ef42e354-5679-4617-cd19-85d2f7197d58"
      },
      "execution_count": 2,
      "outputs": [
        {
          "output_type": "stream",
          "name": "stdout",
          "text": [
            "[1. 2. 3.]\n",
            "(3,)\n",
            "float64\n"
          ]
        }
      ]
    },
    {
      "cell_type": "markdown",
      "source": [
        "**2. Functions to Create Arrays**"
      ],
      "metadata": {
        "id": "wx5ZEFNGBlsT"
      }
    },
    {
      "cell_type": "markdown",
      "source": [
        "1. Empty"
      ],
      "metadata": {
        "id": "MKRZN3qnBn0w"
      }
    },
    {
      "cell_type": "code",
      "source": [
        "# create empty array\n",
        "from numpy import empty\n",
        "a = empty([3,3])\n",
        "print(a)"
      ],
      "metadata": {
        "colab": {
          "base_uri": "https://localhost:8080/"
        },
        "id": "4v1aAmvYBp5Z",
        "outputId": "e6cc289b-7acc-4f62-f508-0033cce5f3a8"
      },
      "execution_count": 3,
      "outputs": [
        {
          "output_type": "stream",
          "name": "stdout",
          "text": [
            "[[0. 0. 0.]\n",
            " [0. 0. 0.]\n",
            " [0. 0. 0.]]\n"
          ]
        }
      ]
    },
    {
      "cell_type": "markdown",
      "source": [
        "2. Zeros"
      ],
      "metadata": {
        "id": "ih9YbwbTBtzL"
      }
    },
    {
      "cell_type": "code",
      "source": [
        "# create zero array\n",
        "from numpy import zeros\n",
        "a = zeros([3,5])\n",
        "print(a)"
      ],
      "metadata": {
        "colab": {
          "base_uri": "https://localhost:8080/"
        },
        "id": "wM6dLIANBvIW",
        "outputId": "8ecf8bf0-b462-4688-8ca2-7800f76d5965"
      },
      "execution_count": 4,
      "outputs": [
        {
          "output_type": "stream",
          "name": "stdout",
          "text": [
            "[[0. 0. 0. 0. 0.]\n",
            " [0. 0. 0. 0. 0.]\n",
            " [0. 0. 0. 0. 0.]]\n"
          ]
        }
      ]
    },
    {
      "cell_type": "markdown",
      "source": [
        "3. Ones"
      ],
      "metadata": {
        "id": "4ufRHGNIBxDw"
      }
    },
    {
      "cell_type": "code",
      "source": [
        "# create one array\n",
        "from numpy import ones\n",
        "a = ones([5])\n",
        "print(a)"
      ],
      "metadata": {
        "colab": {
          "base_uri": "https://localhost:8080/"
        },
        "id": "7V8-fH0KB0U8",
        "outputId": "f41afe53-3c58-4838-84f8-aa4f9f32f54b"
      },
      "execution_count": 5,
      "outputs": [
        {
          "output_type": "stream",
          "name": "stdout",
          "text": [
            "[1. 1. 1. 1. 1.]\n"
          ]
        }
      ]
    },
    {
      "cell_type": "markdown",
      "source": [
        "**3. Combining Arrays**"
      ],
      "metadata": {
        "id": "ncj6XJgeB2jN"
      }
    },
    {
      "cell_type": "markdown",
      "source": [
        "1. Vertical Stack\n"
      ],
      "metadata": {
        "id": "5XnFZ0O0B4Rg"
      }
    },
    {
      "cell_type": "code",
      "source": [
        "# create array with vstack\n",
        "from numpy import array\n",
        "from numpy import vstack\n",
        "# create first array\n",
        "a1 = array([1,2,3])\n",
        "print(a1)\n",
        "# create second array\n",
        "a2 = array([4,5,6])\n",
        "print(a2)\n",
        "# vertical stack\n",
        "a3 = vstack((a1, a2))\n",
        "print(a3)\n",
        "print(a3.shape)\n"
      ],
      "metadata": {
        "colab": {
          "base_uri": "https://localhost:8080/"
        },
        "id": "Wp0k_0v-B6GB",
        "outputId": "0f11c989-9aee-4255-ba2a-7dc6d5e7a9e1"
      },
      "execution_count": 6,
      "outputs": [
        {
          "output_type": "stream",
          "name": "stdout",
          "text": [
            "[1 2 3]\n",
            "[4 5 6]\n",
            "[[1 2 3]\n",
            " [4 5 6]]\n",
            "(2, 3)\n"
          ]
        }
      ]
    },
    {
      "cell_type": "markdown",
      "source": [
        "2. Horizontal Stack"
      ],
      "metadata": {
        "id": "MPbeDSq8B9RX"
      }
    },
    {
      "cell_type": "code",
      "source": [
        "# create array with hstack\n",
        "from numpy import array\n",
        "from numpy import hstack\n",
        "# create first array\n",
        "a1 = array([1,2,3])\n",
        "print(a1)\n",
        "# create second array\n",
        "a2 = array([4,5,6])\n",
        "print(a2)\n",
        "# create horizontal stack\n",
        "a3 = hstack((a1, a2))\n",
        "print(a3)\n",
        "print(a3.shape)"
      ],
      "metadata": {
        "colab": {
          "base_uri": "https://localhost:8080/"
        },
        "id": "wiE_dikIB-ml",
        "outputId": "14dad0b5-e1f1-40a9-d5eb-c44d4cd7cac6"
      },
      "execution_count": 7,
      "outputs": [
        {
          "output_type": "stream",
          "name": "stdout",
          "text": [
            "[1 2 3]\n",
            "[4 5 6]\n",
            "[1 2 3 4 5 6]\n",
            "(6,)\n"
          ]
        }
      ]
    },
    {
      "cell_type": "markdown",
      "source": [
        "**1. From List to Arrays**"
      ],
      "metadata": {
        "id": "jb6yQd5UCCg5"
      }
    },
    {
      "cell_type": "markdown",
      "source": [
        "1. One-Dimensional List to Array"
      ],
      "metadata": {
        "id": "cd9bCDHWCGBS"
      }
    },
    {
      "cell_type": "code",
      "source": [
        "# create one-dimensional array\n",
        "from numpy import array\n",
        "# list of data\n",
        "data = [11, 22, 33, 44, 55]\n",
        "# array of data\n",
        "data = array(data)\n",
        "print(data)\n",
        "print(type(data))"
      ],
      "metadata": {
        "colab": {
          "base_uri": "https://localhost:8080/"
        },
        "id": "xtNfl8eMCIIz",
        "outputId": "dca5329e-a67a-45e6-aff8-b01288deb9db"
      },
      "execution_count": 8,
      "outputs": [
        {
          "output_type": "stream",
          "name": "stdout",
          "text": [
            "[11 22 33 44 55]\n",
            "<class 'numpy.ndarray'>\n"
          ]
        }
      ]
    },
    {
      "cell_type": "markdown",
      "source": [
        "2. Two-Dimensional List of Lists to Array"
      ],
      "metadata": {
        "id": "hEO-0oJMCKhp"
      }
    },
    {
      "cell_type": "code",
      "source": [
        "# create two-dimensional array\n",
        "from numpy import array\n",
        "# list of data\n",
        "data = [[11, 22],\n",
        "[33, 44],\n",
        "[55, 66]]\n",
        "# array of data\n",
        "data = array(data)\n",
        "print(data)\n",
        "print(type(data))"
      ],
      "metadata": {
        "colab": {
          "base_uri": "https://localhost:8080/"
        },
        "id": "lZj1nSj4CL5B",
        "outputId": "1c6e3de9-9244-40de-8afa-76339ebc7731"
      },
      "execution_count": 9,
      "outputs": [
        {
          "output_type": "stream",
          "name": "stdout",
          "text": [
            "[[11 22]\n",
            " [33 44]\n",
            " [55 66]]\n",
            "<class 'numpy.ndarray'>\n"
          ]
        }
      ]
    },
    {
      "cell_type": "markdown",
      "source": [
        "**2.  Array Indexing**"
      ],
      "metadata": {
        "id": "2N7e2vzyCPJD"
      }
    },
    {
      "cell_type": "markdown",
      "source": [
        "1. One-Dimensional Indexing"
      ],
      "metadata": {
        "id": "uDMY025UCRLP"
      }
    },
    {
      "cell_type": "code",
      "source": [
        "# index a one-dimensional array\n",
        "from numpy import array\n",
        "# define array\n",
        "data = array([11, 22, 33, 44, 55])\n",
        "# index data\n",
        "print(data[0])\n",
        "print(data[4])"
      ],
      "metadata": {
        "colab": {
          "base_uri": "https://localhost:8080/"
        },
        "id": "Cu01zm9MCSht",
        "outputId": "9cfca8cc-6129-4d23-d5df-be1d620ce99a"
      },
      "execution_count": 10,
      "outputs": [
        {
          "output_type": "stream",
          "name": "stdout",
          "text": [
            "11\n",
            "55\n"
          ]
        }
      ]
    },
    {
      "cell_type": "code",
      "source": [
        "from numpy import array\n",
        "# define array\n",
        "data = array([11, 22, 33, 44, 55])\n",
        "# index data\n",
        "print(data[4])"
      ],
      "metadata": {
        "colab": {
          "base_uri": "https://localhost:8080/"
        },
        "id": "KltkPkP7CU7c",
        "outputId": "1435e714-e50b-4544-cf3d-d187deaca224"
      },
      "execution_count": 12,
      "outputs": [
        {
          "output_type": "stream",
          "name": "stdout",
          "text": [
            "55\n"
          ]
        }
      ]
    },
    {
      "cell_type": "code",
      "source": [
        "# negative array indexing\n",
        "from numpy import array\n",
        "# define array\n",
        "data = array([11, 22, 33, 44, 55])\n",
        "# index data\n",
        "print(data[-1])\n",
        "print(data[-5])"
      ],
      "metadata": {
        "colab": {
          "base_uri": "https://localhost:8080/"
        },
        "id": "NZbo89LjCXvW",
        "outputId": "eb09043f-7df1-405c-c1ce-dc8dd58f5890"
      },
      "execution_count": 13,
      "outputs": [
        {
          "output_type": "stream",
          "name": "stdout",
          "text": [
            "55\n",
            "11\n"
          ]
        }
      ]
    },
    {
      "cell_type": "markdown",
      "source": [
        "2. Two-Dimensional Indexing"
      ],
      "metadata": {
        "id": "rtUm_0cUCZu9"
      }
    },
    {
      "cell_type": "code",
      "source": [
        "# index two-dimensional array\n",
        "from numpy import array\n",
        "# define array\n",
        "data = array([\n",
        "[11, 22],\n",
        "[33, 44],\n",
        "[55, 66]])\n",
        "# index data\n",
        "print(data[0,0])"
      ],
      "metadata": {
        "colab": {
          "base_uri": "https://localhost:8080/"
        },
        "id": "fbRUFW33CcOv",
        "outputId": "fe3e3ed4-8c95-41a3-990c-bf2c1e155650"
      },
      "execution_count": 14,
      "outputs": [
        {
          "output_type": "stream",
          "name": "stdout",
          "text": [
            "11\n"
          ]
        }
      ]
    },
    {
      "cell_type": "code",
      "source": [
        "# index row of two-dimensional array\n",
        "from numpy import array\n",
        "# define array\n",
        "data = array([\n",
        "[11, 22],\n",
        "[33, 44],\n",
        "[55, 66]])\n",
        "# index data\n",
        "print(data[0,])"
      ],
      "metadata": {
        "colab": {
          "base_uri": "https://localhost:8080/"
        },
        "id": "v8Fe0XhPCdhG",
        "outputId": "70aa47be-2c41-4e38-b3df-0b8bc95e0287"
      },
      "execution_count": 15,
      "outputs": [
        {
          "output_type": "stream",
          "name": "stdout",
          "text": [
            "[11 22]\n"
          ]
        }
      ]
    },
    {
      "cell_type": "markdown",
      "source": [
        "**3. Array Slicing**"
      ],
      "metadata": {
        "id": "5U6rp1uiCgq1"
      }
    },
    {
      "cell_type": "markdown",
      "source": [
        "1. One-Dimensional Slicing"
      ],
      "metadata": {
        "id": "ZSD-i6WsCigC"
      }
    },
    {
      "cell_type": "code",
      "source": [
        "# slice a one-dimensional array\n",
        "from numpy import array\n",
        "# define array\n",
        "data = array([11, 22, 33, 44, 55])\n",
        "print(data[:])"
      ],
      "metadata": {
        "colab": {
          "base_uri": "https://localhost:8080/"
        },
        "id": "Fcd5DS1gCkVk",
        "outputId": "d7a52b42-b9c5-4722-a679-fcf848071385"
      },
      "execution_count": 16,
      "outputs": [
        {
          "output_type": "stream",
          "name": "stdout",
          "text": [
            "[11 22 33 44 55]\n"
          ]
        }
      ]
    },
    {
      "cell_type": "code",
      "source": [
        "# slice a subset of a one-dimensional array\n",
        "from numpy import array\n",
        "# define array\n",
        "data = array([11, 22, 33, 44, 55])\n",
        "print(data[0:1])"
      ],
      "metadata": {
        "colab": {
          "base_uri": "https://localhost:8080/"
        },
        "id": "a9hvEfeeCl30",
        "outputId": "e35ebb35-dfac-42f3-9029-1aa271565c02"
      },
      "execution_count": 17,
      "outputs": [
        {
          "output_type": "stream",
          "name": "stdout",
          "text": [
            "[11]\n"
          ]
        }
      ]
    },
    {
      "cell_type": "code",
      "source": [
        "# negative slicing of a one-dimensional array\n",
        "from numpy import array\n",
        "# define array\n",
        "data = array([11, 22, 33, 44, 55])\n",
        "print(data[-2:])"
      ],
      "metadata": {
        "colab": {
          "base_uri": "https://localhost:8080/"
        },
        "id": "5qOjyexoCn84",
        "outputId": "c87e19b3-1e3f-46e7-9b2a-187019c38030"
      },
      "execution_count": 19,
      "outputs": [
        {
          "output_type": "stream",
          "name": "stdout",
          "text": [
            "[44 55]\n"
          ]
        }
      ]
    },
    {
      "cell_type": "markdown",
      "source": [
        "2. Two-Dimensional Slicing"
      ],
      "metadata": {
        "id": "eJ0KkyweCqkC"
      }
    },
    {
      "cell_type": "code",
      "source": [
        "# split input and output data\n",
        "from numpy import array\n",
        "# define array\n",
        "data = array([\n",
        "[11, 22, 33],\n",
        "[44, 55, 66],\n",
        "[77, 88, 99]])\n",
        "# separate data\n",
        "X, y = data[:, :-1], data[:, -1]\n",
        "print(X)\n",
        "print(y)"
      ],
      "metadata": {
        "colab": {
          "base_uri": "https://localhost:8080/"
        },
        "id": "CHzQW_sRCr5r",
        "outputId": "c09bffc3-a44e-4809-e6eb-5c910651808d"
      },
      "execution_count": 18,
      "outputs": [
        {
          "output_type": "stream",
          "name": "stdout",
          "text": [
            "[[11 22]\n",
            " [44 55]\n",
            " [77 88]]\n",
            "[33 66 99]\n"
          ]
        }
      ]
    },
    {
      "cell_type": "markdown",
      "source": [
        "Split Train and Test Rows\n",
        "*   train = data[:split, :]\n",
        "*   test = data[split:, :]\n",
        "\n"
      ],
      "metadata": {
        "id": "RWaGF586DEAg"
      }
    },
    {
      "cell_type": "code",
      "source": [
        "# split train and test data\n",
        "from numpy import array\n",
        "# define array\n",
        "data = array([\n",
        "[11, 22, 33],\n",
        "[44, 55, 66],\n",
        "[77, 88, 99]])\n",
        "# separate data\n",
        "split = 2\n",
        "train,test = data[:split,:],data[split:,:]\n",
        "print(train)\n",
        "print(test)"
      ],
      "metadata": {
        "colab": {
          "base_uri": "https://localhost:8080/"
        },
        "id": "FfiJgIMCDF9e",
        "outputId": "3ea8c992-1961-41ce-f804-cdccd7255c8a"
      },
      "execution_count": 20,
      "outputs": [
        {
          "output_type": "stream",
          "name": "stdout",
          "text": [
            "[[11 22 33]\n",
            " [44 55 66]]\n",
            "[[77 88 99]]\n"
          ]
        }
      ]
    },
    {
      "cell_type": "markdown",
      "source": [
        "**4. Array Reshaping**"
      ],
      "metadata": {
        "id": "0AnHA7hvDIb3"
      }
    },
    {
      "cell_type": "markdown",
      "source": [
        "1. Data Shape"
      ],
      "metadata": {
        "id": "QA-Jjp3ODKKh"
      }
    },
    {
      "cell_type": "code",
      "source": [
        "# shape of one-dimensional array\n",
        "from numpy import array\n",
        "# define array\n",
        "data = array([11, 22, 33, 44, 55])\n",
        "print(data.shape)"
      ],
      "metadata": {
        "colab": {
          "base_uri": "https://localhost:8080/"
        },
        "id": "R6fwmxZRDMBe",
        "outputId": "ddc11780-4fb6-4fc0-b06b-2907072aded6"
      },
      "execution_count": 21,
      "outputs": [
        {
          "output_type": "stream",
          "name": "stdout",
          "text": [
            "(5,)\n"
          ]
        }
      ]
    },
    {
      "cell_type": "code",
      "source": [
        "# shape of a two-dimensional array\n",
        "from numpy import array\n",
        "# list of data\n",
        "data = [[11, 22],\n",
        "[33, 44],\n",
        "[55, 66]]\n",
        "# array of data\n",
        "data = array(data)\n",
        "print(data.shape)"
      ],
      "metadata": {
        "colab": {
          "base_uri": "https://localhost:8080/"
        },
        "id": "4qkIJJNTDN00",
        "outputId": "92140488-48f7-47f1-afe0-081dbf806fd6"
      },
      "execution_count": 22,
      "outputs": [
        {
          "output_type": "stream",
          "name": "stdout",
          "text": [
            "(3, 2)\n"
          ]
        }
      ]
    },
    {
      "cell_type": "code",
      "source": [
        "# row and column shape of two-dimensional array\n",
        "from numpy import array\n",
        "# list of data\n",
        "data = [[11, 22],\n",
        "[33, 44],\n",
        "[55, 66]]\n",
        "# array of data\n",
        "data = array(data)\n",
        "print('Rows: %d' % data.shape[0])\n",
        "print('Cols: %d' % data.shape[1])"
      ],
      "metadata": {
        "colab": {
          "base_uri": "https://localhost:8080/"
        },
        "id": "mhuqZKd8DPYw",
        "outputId": "6709b787-4f93-47cd-b40b-f426564993cb"
      },
      "execution_count": 23,
      "outputs": [
        {
          "output_type": "stream",
          "name": "stdout",
          "text": [
            "Rows: 3\n",
            "Cols: 2\n"
          ]
        }
      ]
    },
    {
      "cell_type": "markdown",
      "source": [
        "2. Reshape 1D to 2D Array"
      ],
      "metadata": {
        "id": "h1i_99mnDSMj"
      }
    },
    {
      "cell_type": "code",
      "source": [
        "# reshape 1D array to 2D\n",
        "from numpy import array\n",
        "# define array\n",
        "data = array([11, 22, 33, 44, 55])\n",
        "print(data.shape)\n",
        "# reshape\n",
        "data = data.reshape((data.shape[0], 1))\n",
        "print(data.shape)"
      ],
      "metadata": {
        "colab": {
          "base_uri": "https://localhost:8080/"
        },
        "id": "Zo9jzIA5DTbP",
        "outputId": "dd55b4dd-be68-4473-e33e-170b9f68df00"
      },
      "execution_count": 24,
      "outputs": [
        {
          "output_type": "stream",
          "name": "stdout",
          "text": [
            "(5,)\n",
            "(5, 1)\n"
          ]
        }
      ]
    },
    {
      "cell_type": "markdown",
      "source": [
        "3. Reshape 2D to 3D Array\n",
        "\n",
        "data.reshape((data.shape[0], data.shape[1], 1))\n",
        "\n"
      ],
      "metadata": {
        "id": "3pDIMEpaDYrV"
      }
    },
    {
      "cell_type": "code",
      "source": [
        "# reshape 2D array to 3D\n",
        "from numpy import array\n",
        "# list of data\n",
        "data = [[11, 22],\n",
        "[33, 44],\n",
        "[55, 66]]\n",
        "# array of data\n",
        "data = array(data)\n",
        "print(data.shape)\n",
        "# reshape\n",
        "data = data.reshape((data.shape[0], data.shape[1], 1))\n",
        "print(data.shape)"
      ],
      "metadata": {
        "colab": {
          "base_uri": "https://localhost:8080/"
        },
        "id": "xArx1i4RDaw6",
        "outputId": "5e16d4cb-e302-4273-d39c-c9e08cc2c3c7"
      },
      "execution_count": 25,
      "outputs": [
        {
          "output_type": "stream",
          "name": "stdout",
          "text": [
            "(3, 2)\n",
            "(3, 2, 1)\n"
          ]
        }
      ]
    }
  ]
}