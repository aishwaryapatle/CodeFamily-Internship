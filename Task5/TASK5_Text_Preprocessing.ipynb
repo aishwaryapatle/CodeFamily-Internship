{
  "nbformat": 4,
  "nbformat_minor": 0,
  "metadata": {
    "colab": {
      "name": "TASK5: Text Preprocessing.ipynb",
      "provenance": [],
      "authorship_tag": "ABX9TyPg+Yulh4UyDQ0XWHibcGA1",
      "include_colab_link": true
    },
    "kernelspec": {
      "name": "python3",
      "display_name": "Python 3"
    },
    "language_info": {
      "name": "python"
    }
  },
  "cells": [
    {
      "cell_type": "markdown",
      "metadata": {
        "id": "view-in-github",
        "colab_type": "text"
      },
      "source": [
        "<a href=\"https://colab.research.google.com/github/aishwaryapatle/CodeFamily-Internship/blob/main/Task5/TASK5_Text_Preprocessing.ipynb\" target=\"_parent\"><img src=\"https://colab.research.google.com/assets/colab-badge.svg\" alt=\"Open In Colab\"/></a>"
      ]
    },
    {
      "cell_type": "markdown",
      "source": [
        "\n",
        "\n",
        "> **Installing nltk library**\n",
        "\n"
      ],
      "metadata": {
        "id": "z5vM7qm-jn-e"
      }
    },
    {
      "cell_type": "code",
      "execution_count": null,
      "metadata": {
        "id": "EGMQ3eEqiJ3G"
      },
      "outputs": [],
      "source": [
        "# pip install nltk==3.4.5"
      ]
    },
    {
      "cell_type": "markdown",
      "source": [
        "\n",
        "\n",
        "> **1. Tokenization**\n",
        "\n"
      ],
      "metadata": {
        "id": "pa0ZLa9piNHr"
      }
    },
    {
      "cell_type": "code",
      "source": [
        "import nltk\n",
        "nltk.download('punkt')"
      ],
      "metadata": {
        "colab": {
          "base_uri": "https://localhost:8080/"
        },
        "id": "ujQgufRdkPG1",
        "outputId": "1a32d706-f94f-449e-aa33-73a64f8bd823"
      },
      "execution_count": 1,
      "outputs": [
        {
          "output_type": "stream",
          "name": "stderr",
          "text": [
            "[nltk_data] Downloading package punkt to /root/nltk_data...\n",
            "[nltk_data]   Package punkt is already up-to-date!\n"
          ]
        },
        {
          "output_type": "execute_result",
          "data": {
            "text/plain": [
              "True"
            ]
          },
          "metadata": {},
          "execution_count": 1
        }
      ]
    },
    {
      "cell_type": "code",
      "source": [
        "# importing library\n",
        "from nltk.tokenize import word_tokenize\n",
        "\n",
        "sentence = \"Java LinkedList class uses a doubly linked\"\n",
        "\n",
        "words = word_tokenize(sentence)\n",
        "print(words)"
      ],
      "metadata": {
        "colab": {
          "base_uri": "https://localhost:8080/"
        },
        "id": "DMqBHfvgiSC4",
        "outputId": "512f24a1-9b25-47cb-b2a8-1f82c815a83c"
      },
      "execution_count": 2,
      "outputs": [
        {
          "output_type": "stream",
          "name": "stdout",
          "text": [
            "['Java', 'LinkedList', 'class', 'uses', 'a', 'doubly', 'linked']\n"
          ]
        }
      ]
    },
    {
      "cell_type": "markdown",
      "source": [
        "\n",
        "\n",
        "> **2. Lower casing**\n",
        "\n"
      ],
      "metadata": {
        "id": "DEWK2WzyiZHZ"
      }
    },
    {
      "cell_type": "code",
      "source": [
        "sentence = \"Java LinkedList class can contain duplicate elements.\"\n",
        "sentence = sentence.lower()\n",
        "print(sentence)"
      ],
      "metadata": {
        "colab": {
          "base_uri": "https://localhost:8080/"
        },
        "id": "TCd7cKQkickl",
        "outputId": "4182e4a1-d678-4a75-9fc8-0672d95fa60d"
      },
      "execution_count": 3,
      "outputs": [
        {
          "output_type": "stream",
          "name": "stdout",
          "text": [
            "java linkedlist class can contain duplicate elements.\n"
          ]
        }
      ]
    },
    {
      "cell_type": "markdown",
      "source": [
        "\n",
        "\n",
        "> **3. Stop words removal**\n",
        "\n"
      ],
      "metadata": {
        "id": "UTOQYm1Ziiud"
      }
    },
    {
      "cell_type": "code",
      "source": [
        "# importing library\n",
        "nltk.download('stopwords')\n",
        "from nltk.corpus import stopwords \n",
        "from nltk.tokenize import word_tokenize \n",
        "  \n",
        "sentence = \"Java LinkedList class is non synchronized.\"\n",
        "  \n",
        "stop_words = set(stopwords.words('english')) \n",
        "word_tokens = word_tokenize(sentence)\n",
        "  \n",
        "filtered_sentence = [w for w in word_tokens if not w in stop_words] \n",
        "print(filtered_sentence)"
      ],
      "metadata": {
        "colab": {
          "base_uri": "https://localhost:8080/"
        },
        "id": "u9EkTiFQjN46",
        "outputId": "7f823443-8e32-4306-d2ee-5cc013dbc121"
      },
      "execution_count": 4,
      "outputs": [
        {
          "output_type": "stream",
          "name": "stdout",
          "text": [
            "['Java', 'LinkedList', 'class', 'non', 'synchronized', '.']\n"
          ]
        },
        {
          "output_type": "stream",
          "name": "stderr",
          "text": [
            "[nltk_data] Downloading package stopwords to /root/nltk_data...\n",
            "[nltk_data]   Package stopwords is already up-to-date!\n"
          ]
        }
      ]
    },
    {
      "cell_type": "markdown",
      "source": [
        "\n",
        "\n",
        "> **4. Stemming**\n",
        "\n"
      ],
      "metadata": {
        "id": "CL9W54BRjS5B"
      }
    },
    {
      "cell_type": "code",
      "source": [
        "# importing library\n",
        "import nltk\n",
        "from nltk.stem import PorterStemmer\n",
        "ps = PorterStemmer()\n",
        "\n",
        "sentence = \"It provides a linked-list data structure.\"\n",
        "\n",
        "for word in sentence.split():\n",
        "  print(ps.stem(word))"
      ],
      "metadata": {
        "colab": {
          "base_uri": "https://localhost:8080/"
        },
        "id": "WFMtdHfTjXOg",
        "outputId": "9c87ad1f-0455-47eb-80aa-3a95ebf84352"
      },
      "execution_count": 5,
      "outputs": [
        {
          "output_type": "stream",
          "name": "stdout",
          "text": [
            "It\n",
            "provid\n",
            "a\n",
            "linked-list\n",
            "data\n",
            "structure.\n"
          ]
        }
      ]
    },
    {
      "cell_type": "markdown",
      "source": [
        "\n",
        "\n",
        "> **5. Lemmatization**\n",
        "\n"
      ],
      "metadata": {
        "id": "w9T904NljaVu"
      }
    },
    {
      "cell_type": "code",
      "source": [
        "# importing library\n",
        "import nltk\n",
        "nltk.download('wordnet')\n",
        "from nltk.stem import WordNetLemmatizer \n",
        "\n",
        "lemmatizer = WordNetLemmatizer()\n",
        "\n",
        "print(lemmatizer.lemmatize(\"Machine\", pos='n'))\n",
        "# pos: parts of speech tag, verb\n",
        "print(lemmatizer.lemmatize(\"Vector\", pos='v'))"
      ],
      "metadata": {
        "colab": {
          "base_uri": "https://localhost:8080/"
        },
        "id": "l8eWDy4DjeMz",
        "outputId": "1f7f51f7-5ba7-4a29-9c6e-0b512ea46a48"
      },
      "execution_count": 6,
      "outputs": [
        {
          "output_type": "stream",
          "name": "stderr",
          "text": [
            "[nltk_data] Downloading package wordnet to /root/nltk_data...\n",
            "[nltk_data]   Package wordnet is already up-to-date!\n"
          ]
        },
        {
          "output_type": "stream",
          "name": "stdout",
          "text": [
            "Machine\n",
            "Vector\n"
          ]
        }
      ]
    }
  ]
}